{
 "cells": [
  {
   "cell_type": "code",
   "execution_count": 12,
   "id": "60b8728f-1e7a-4a79-9602-890d4fa62b7f",
   "metadata": {},
   "outputs": [],
   "source": [
    "import numpy as np"
   ]
  },
  {
   "cell_type": "code",
   "execution_count": 18,
   "id": "92fa0ca7-56e1-4f70-a164-ac37042f10ed",
   "metadata": {},
   "outputs": [],
   "source": [
    "def polar_to_cartesian(mag, theta):\n",
    "    \"\"\"Converts coordinates in polar form to cartesian form.\n",
    "    \n",
    "    Parameters\n",
    "    ----------\n",
    "    mag: integer, float, or array\n",
    "        Represents the magnitude of the polar coordinates\n",
    "    theta: integer, float, or array\n",
    "        Represents the angle in radians of the polar coordinates\n",
    "    \n",
    "    Returns\n",
    "    -------\n",
    "    x: the x value (horizontal component) of the cartesian coordinates\n",
    "    y: the y value (vertical component) of the cartesian coordinates\n",
    "    \"\"\"\n",
    "    x = mag*np.cos(theta)\n",
    "    y = mag*np.sin(theta)\n",
    "    return(x,y)"
   ]
  },
  {
   "cell_type": "code",
   "execution_count": 20,
   "id": "50af6f6d-6e52-448b-ab52-d158839fa1ef",
   "metadata": {},
   "outputs": [
    {
     "data": {
      "text/plain": [
       "(1.0, 0.0)"
      ]
     },
     "execution_count": 20,
     "metadata": {},
     "output_type": "execute_result"
    }
   ],
   "source": [
    "polar_to_cartesian(1,0)"
   ]
  },
  {
   "cell_type": "code",
   "execution_count": null,
   "id": "b8b62ec9-dcda-4e02-acb7-87fc71ce6fc6",
   "metadata": {},
   "outputs": [],
   "source": []
  }
 ],
 "metadata": {
  "kernelspec": {
   "display_name": "Python 3 (ipykernel)",
   "language": "python",
   "name": "python3"
  },
  "language_info": {
   "codemirror_mode": {
    "name": "ipython",
    "version": 3
   },
   "file_extension": ".py",
   "mimetype": "text/x-python",
   "name": "python",
   "nbconvert_exporter": "python",
   "pygments_lexer": "ipython3",
   "version": "3.9.13"
  }
 },
 "nbformat": 4,
 "nbformat_minor": 5
}
